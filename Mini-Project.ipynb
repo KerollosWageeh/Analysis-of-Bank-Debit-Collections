{
 "cells": [
  {
   "cell_type": "markdown",
   "metadata": {},
   "source": [
    "## Import the needed libraries"
   ]
  },
  {
   "cell_type": "code",
   "execution_count": 79,
   "metadata": {},
   "outputs": [],
   "source": [
    "import pandas as pd\n",
    "import matplotlib.pyplot as plt\n",
    "import scipy.stats as stats\n",
    "import numpy as np\n",
    "import statsmodels.api as sm\n",
    "from sklearn.linear_model import LinearRegression"
   ]
  },
  {
   "cell_type": "markdown",
   "metadata": {},
   "source": [
    "# Regression discontinuity: banking recovery"
   ]
  },
  {
   "cell_type": "code",
   "execution_count": 80,
   "metadata": {},
   "outputs": [
    {
     "data": {
      "text/html": [
       "<div>\n",
       "<style scoped>\n",
       "    .dataframe tbody tr th:only-of-type {\n",
       "        vertical-align: middle;\n",
       "    }\n",
       "\n",
       "    .dataframe tbody tr th {\n",
       "        vertical-align: top;\n",
       "    }\n",
       "\n",
       "    .dataframe thead th {\n",
       "        text-align: right;\n",
       "    }\n",
       "</style>\n",
       "<table border=\"1\" class=\"dataframe\">\n",
       "  <thead>\n",
       "    <tr style=\"text-align: right;\">\n",
       "      <th></th>\n",
       "      <th>id</th>\n",
       "      <th>expected_recovery_amount</th>\n",
       "      <th>actual_recovery_amount</th>\n",
       "      <th>recovery_strategy</th>\n",
       "      <th>age</th>\n",
       "      <th>sex</th>\n",
       "    </tr>\n",
       "  </thead>\n",
       "  <tbody>\n",
       "    <tr>\n",
       "      <th>0</th>\n",
       "      <td>2030</td>\n",
       "      <td>194</td>\n",
       "      <td>263.540</td>\n",
       "      <td>Level 0 Recovery</td>\n",
       "      <td>19</td>\n",
       "      <td>Male</td>\n",
       "    </tr>\n",
       "    <tr>\n",
       "      <th>1</th>\n",
       "      <td>1150</td>\n",
       "      <td>486</td>\n",
       "      <td>416.090</td>\n",
       "      <td>Level 0 Recovery</td>\n",
       "      <td>25</td>\n",
       "      <td>Female</td>\n",
       "    </tr>\n",
       "    <tr>\n",
       "      <th>2</th>\n",
       "      <td>380</td>\n",
       "      <td>527</td>\n",
       "      <td>429.350</td>\n",
       "      <td>Level 0 Recovery</td>\n",
       "      <td>27</td>\n",
       "      <td>Male</td>\n",
       "    </tr>\n",
       "    <tr>\n",
       "      <th>3</th>\n",
       "      <td>1838</td>\n",
       "      <td>536</td>\n",
       "      <td>296.990</td>\n",
       "      <td>Level 0 Recovery</td>\n",
       "      <td>25</td>\n",
       "      <td>Male</td>\n",
       "    </tr>\n",
       "    <tr>\n",
       "      <th>4</th>\n",
       "      <td>1995</td>\n",
       "      <td>541</td>\n",
       "      <td>346.385</td>\n",
       "      <td>Level 0 Recovery</td>\n",
       "      <td>34</td>\n",
       "      <td>Male</td>\n",
       "    </tr>\n",
       "  </tbody>\n",
       "</table>\n",
       "</div>"
      ],
      "text/plain": [
       "     id  expected_recovery_amount  actual_recovery_amount recovery_strategy  \\\n",
       "0  2030                       194                 263.540  Level 0 Recovery   \n",
       "1  1150                       486                 416.090  Level 0 Recovery   \n",
       "2   380                       527                 429.350  Level 0 Recovery   \n",
       "3  1838                       536                 296.990  Level 0 Recovery   \n",
       "4  1995                       541                 346.385  Level 0 Recovery   \n",
       "\n",
       "   age     sex  \n",
       "0   19    Male  \n",
       "1   25  Female  \n",
       "2   27    Male  \n",
       "3   25    Male  \n",
       "4   34    Male  "
      ]
     },
     "execution_count": 80,
     "metadata": {},
     "output_type": "execute_result"
    }
   ],
   "source": [
    "all_data = pd.read_csv('bank_data.csv')\n",
    "all_data.head()"
   ]
  },
  {
   "cell_type": "markdown",
   "metadata": {},
   "source": [
    "### Some important constants"
   ]
  },
  {
   "cell_type": "code",
   "execution_count": 81,
   "metadata": {},
   "outputs": [],
   "source": [
    "threshold = 1000\n",
    "lower_range = threshold - 100\n",
    "upper_range = threshold + 100\n",
    "lower_range_narrow = threshold - 50\n",
    "upper_range_narrow = threshold + 50"
   ]
  },
  {
   "cell_type": "markdown",
   "metadata": {},
   "source": [
    "### Data manipulation will me needed lately"
   ]
  },
  {
   "cell_type": "code",
   "execution_count": 82,
   "metadata": {},
   "outputs": [],
   "source": [
    "all_data = all_data\n",
    "filtered_all_data = all_data[(all_data['expected_recovery_amount'] >= lower_range) & (all_data['expected_recovery_amount'] < upper_range)]\n",
    "filtered_all_data_narrow = all_data[(all_data['expected_recovery_amount'] >= lower_range_narrow) & (all_data['expected_recovery_amount'] < upper_range_narrow)]\n",
    "filtered_all_data = filtered_all_data.assign(above_threshold = (filtered_all_data['expected_recovery_amount'] >= threshold).astype(int))\n",
    "filtered_all_data_narrow = filtered_all_data_narrow.assign(above_threshold = (filtered_all_data['expected_recovery_amount'] >= threshold).astype(int))"
   ]
  },
  {
   "cell_type": "markdown",
   "metadata": {},
   "source": [
    "# Graphical exploratory data analysis"
   ]
  },
  {
   "cell_type": "code",
   "execution_count": 83,
   "metadata": {},
   "outputs": [
    {
     "data": {
      "image/png": "[encoded data removed]",
      "text/plain": [
       "<Figure size 432x288 with 1 Axes>"
      ]
     },
     "metadata": {
      "needs_background": "light"
     },
     "output_type": "display_data"
    }
   ],
   "source": [
    "expected_recovery_range = (0, 2000)\n",
    "all_data_range = all_data[all_data['expected_recovery_amount'].between(*expected_recovery_range)]\n",
    "\n",
    "# Graphical Representaion\n",
    "plt.scatter(all_data_range['expected_recovery_amount'], all_data_range['age'])\n",
    "plt.xlabel('Expected Recovery Amount')\n",
    "plt.ylabel('Age')\n",
    "plt.title('Age vs. Expected Recovery Amount')\n",
    "plt.axvline(x=1000, color='red', linestyle='dashed', linewidth=2, label='Threshold')\n",
    "plt.legend()\n",
    "plt.show()\n"
   ]
  },
  {
   "cell_type": "markdown",
   "metadata": {},
   "source": [
    "if the customer age varies smoothly across the $1000 threshold, it would suggest that age does not have a significant influence on how customers are assigned to different recovery strategy levels. This would imply that the bank's strategy of transitioning customers based on expected recovery amounts is not directly related to customer age."
   ]
  },
  {
   "cell_type": "markdown",
   "metadata": {},
   "source": [
    "# Statistical test: age vs. expected recovery amount"
   ]
  },
  {
   "cell_type": "code",
   "execution_count": 84,
   "metadata": {},
   "outputs": [
    {
     "name": "stdout",
     "output_type": "stream",
     "text": [
      "Average Age (Below $1000): 27.224719101123597\n",
      "Average Age (Above $1000): 28.75531914893617\n",
      "Kruskal Statistic: 3.4572342749517513\n",
      "P-Value: 0.06297556896097407\n",
      "There is no statistically significant difference in average age.\n"
     ]
    }
   ],
   "source": [
    "\n",
    "# Group data into two groups: below and above the threshold\n",
    "below_threshold_all_data = filtered_all_data[filtered_all_data['expected_recovery_amount'] <= threshold]\n",
    "above_threshold_all_data = filtered_all_data[filtered_all_data['expected_recovery_amount'] > threshold]\n",
    "\n",
    "# Calculate the average age for each group\n",
    "average_age_below = below_threshold_all_data['age'].mean()\n",
    "average_age_above = above_threshold_all_data['age'].mean()\n",
    "\n",
    "# Perform a statistical test to compare the average age of the two groups\n",
    "kruskal_test_wide = stats.kruskal(below_threshold_all_data['age'], above_threshold_all_data['age'])\n",
    "\n",
    "# Print the results\n",
    "print(\"Average Age (Below $1000):\", average_age_below)\n",
    "print(\"Average Age (Above $1000):\", average_age_above)\n",
    "print(\"Kruskal Statistic:\", kruskal_test_wide.statistic)\n",
    "print(\"P-Value:\", kruskal_test_wide.pvalue)\n",
    "\n",
    "# Check if the difference in average age is statistically significant at a 95% confidence level\n",
    "alpha = 0.05\n",
    "if kruskal_test_wide.pvalue < alpha:\n",
    "    print(\"The difference in average age is statistically significant.\")\n",
    "else:\n",
    "    print(\"There is no statistically significant difference in average age.\")"
   ]
  },
  {
   "cell_type": "markdown",
   "metadata": {},
   "source": [
    "# Statistical test: sex vs. expected recovery amount"
   ]
  },
  {
   "cell_type": "code",
   "execution_count": 85,
   "metadata": {},
   "outputs": [
    {
     "name": "stdout",
     "output_type": "stream",
     "text": [
      "sex                       Female  Male\n",
      "expected_recovery_amount              \n",
      "False                         32    57\n",
      "True                          39    55\n",
      "Proportion of Male Customers (Below $1000): 64.04%\n",
      "Proportion of Male Customers (Above $1000): 58.51%\n",
      "Chi-Square Statistic: 0.3796422112341753\n",
      "P-Value: 0.5377947810444592\n",
      "There is no statistically significant difference in proportion of male customers.\n"
     ]
    }
   ],
   "source": [
    "\n",
    "# Perform a statistical test to compare the proportions of male customers between the two groups\n",
    "# For this example, we will use a chi-square test\n",
    "contingency_table = pd.crosstab(filtered_all_data['expected_recovery_amount'] > threshold, filtered_all_data['sex'])\n",
    "chi2, p_value, _, _ = stats.chi2_contingency(contingency_table)\n",
    "print(contingency_table)\n",
    "\n",
    "# Group data into two groups: below and above the threshold\n",
    "below_threshold_all_data = filtered_all_data[filtered_all_data['expected_recovery_amount'] <= threshold]\n",
    "above_threshold_all_data = filtered_all_data[filtered_all_data['expected_recovery_amount'] > threshold]\n",
    "\n",
    "# Calculate the proportion (percentage) of male customers for each group\n",
    "proportion_male_below = below_threshold_all_data[below_threshold_all_data['sex'] == 'Male'].shape[0] / below_threshold_all_data.shape[0] * 100\n",
    "proportion_male_above = above_threshold_all_data[above_threshold_all_data['sex'] == 'Male'].shape[0] / above_threshold_all_data.shape[0] * 100\n",
    "\n",
    "# Print the results\n",
    "print(\"Proportion of Male Customers (Below $1000): {:.2f}%\".format(proportion_male_below))\n",
    "print(\"Proportion of Male Customers (Above $1000): {:.2f}%\".format(proportion_male_above))\n",
    "print(\"Chi-Square Statistic:\", chi2)\n",
    "print(\"P-Value:\", p_value)\n",
    "\n",
    "# Check if the difference in proportion of male customers is statistically significant at a 95% confidence level\n",
    "alpha = 0.05\n",
    "if p_value < alpha:\n",
    "    print(\"The difference in proportion of male customers is statistically significant.\")\n",
    "else:\n",
    "    print(\"There is no statistically significant difference in proportion of male customers.\")\n",
    "    \n"
   ]
  },
  {
   "cell_type": "markdown",
   "metadata": {},
   "source": [
    "# Exploratory graphical analysis: recovery amount"
   ]
  },
  {
   "cell_type": "code",
   "execution_count": 86,
   "metadata": {},
   "outputs": [
    {
     "data": {
      "image/png": "[encoded data removed]",
      "text/plain": [
       "<Figure size 432x288 with 1 Axes>"
      ]
     },
     "metadata": {
      "needs_background": "light"
     },
     "output_type": "display_data"
    }
   ],
   "source": [
    "# Create a scatter plot of Expected Recovery Amount (Y) vs. Actual Recovery Amount (X)\n",
    "plt.scatter(filtered_all_data['expected_recovery_amount'], filtered_all_data['actual_recovery_amount'])\n",
    "plt.xlabel('Expected Recovery Amount')\n",
    "plt.ylabel('Actual Recovery Amount')\n",
    "plt.title('Expected Recovery Amount vs. Actual Recovery Amount')\n",
    "plt.axvline(x=threshold, color='red', linestyle='dashed', linewidth=2, label='Threshold')\n",
    "plt.legend()\n",
    "plt.show()"
   ]
  },
  {
   "cell_type": "markdown",
   "metadata": {},
   "source": [
    "# Statistical analysis: recovery amount"
   ]
  },
  {
   "cell_type": "code",
   "execution_count": 87,
   "metadata": {},
   "outputs": [
    {
     "name": "stdout",
     "output_type": "stream",
     "text": [
      "Kruskal-Wallis Test for $900 to $1100\n",
      "Statistic: 65.37966302528878\n",
      "P-Value: 6.177308752803109e-16\n",
      "There is a significant difference in the actual recovery amount for $900 to $1100 range.\n",
      "\n",
      "Kruskal-Wallis Test for $950 to $1050\n",
      "Statistic: 30.246000000000038\n",
      "P-Value: 3.80575314300276e-08\n",
      "There is a significant difference in the actual recovery amount for $950 to $1050 range.\n"
     ]
    }
   ],
   "source": [
    "# Split the data into groups above and below the threshold\n",
    "above_threshold = filtered_all_data[filtered_all_data['expected_recovery_amount'] > threshold]\n",
    "below_threshold = filtered_all_data[filtered_all_data['expected_recovery_amount'] <= threshold]\n",
    "\n",
    "# Step 3: Perform the Kruskal-Wallis test for the wider range $900 to $1100\n",
    "kruskal_test_wide = stats.kruskal(above_threshold['actual_recovery_amount'], below_threshold['actual_recovery_amount'])\n",
    "\n",
    "# Step 4: Print the results for the wider range\n",
    "print(\"Kruskal-Wallis Test for $900 to $1100\")\n",
    "print(\"Statistic:\", kruskal_test_wide.statistic)\n",
    "print(\"P-Value:\", kruskal_test_wide.pvalue)\n",
    "\n",
    "alpha = 0.05\n",
    "if kruskal_test_wide.pvalue < alpha:\n",
    "    print(\"There is a significant difference in the actual recovery amount for $900 to $1100 range.\")\n",
    "else:\n",
    "    print(\"There is no significant difference in the actual recovery amount for $900 to $1100 range.\")\n",
    "\n",
    "# Step 6: Split the data into groups above and below the threshold for the narrower range\n",
    "above_threshold_narrow = filtered_all_data_narrow[filtered_all_data_narrow['expected_recovery_amount'] > threshold]\n",
    "below_threshold_narrow = filtered_all_data_narrow[filtered_all_data_narrow['expected_recovery_amount'] <= threshold]\n",
    "\n",
    "# Step 7: Perform the Kruskal-Wallis test for the narrower range $950 to $1050\n",
    "kruskal_test_narrow = stats.kruskal(above_threshold_narrow['actual_recovery_amount'], below_threshold_narrow['actual_recovery_amount'])\n",
    "\n",
    "# Step 8: Print the results for the narrower range\n",
    "print(\"\\nKruskal-Wallis Test for $950 to $1050\")\n",
    "print(\"Statistic:\", kruskal_test_narrow.statistic)\n",
    "print(\"P-Value:\", kruskal_test_narrow.pvalue)\n",
    "\n",
    "if kruskal_test_narrow.pvalue < alpha:\n",
    "    print(\"There is a significant difference in the actual recovery amount for $950 to $1050 range.\")\n",
    "else:\n",
    "    print(\"There is no significant difference in the actual recovery amount for $950 to $1050 range.\")\n"
   ]
  },
  {
   "cell_type": "markdown",
   "metadata": {},
   "source": [
    "# Regression modeling: no threshold"
   ]
  },
  {
   "cell_type": "code",
   "execution_count": 88,
   "metadata": {},
   "outputs": [
    {
     "name": "stdout",
     "output_type": "stream",
     "text": [
      "Model 1 (Without Threshold) - $900 to $1100\n",
      "                              OLS Regression Results                              \n",
      "==================================================================================\n",
      "Dep. Variable:     actual_recovery_amount   R-squared:                       0.261\n",
      "Model:                                OLS   Adj. R-squared:                  0.256\n",
      "Method:                     Least Squares   F-statistic:                     63.78\n",
      "Date:                    Mon, 24 Jul 2023   Prob (F-statistic):           1.56e-13\n",
      "Time:                            02:42:49   Log-Likelihood:                -1278.9\n",
      "No. Observations:                     183   AIC:                             2562.\n",
      "Df Residuals:                         181   BIC:                             2568.\n",
      "Df Model:                               1                                         \n",
      "Covariance Type:                nonrobust                                         \n",
      "============================================================================================\n",
      "                               coef    std err          t      P>|t|      [0.025      0.975]\n",
      "--------------------------------------------------------------------------------------------\n",
      "const                    -1978.7597    347.741     -5.690      0.000   -2664.907   -1292.612\n",
      "expected_recovery_amount     2.7577      0.345      7.986      0.000       2.076       3.439\n",
      "==============================================================================\n",
      "Omnibus:                       64.493   Durbin-Watson:                   1.777\n",
      "Prob(Omnibus):                  0.000   Jarque-Bera (JB):              185.818\n",
      "Skew:                           1.463   Prob(JB):                     4.47e-41\n",
      "Kurtosis:                       6.977   Cond. No.                     1.80e+04\n",
      "==============================================================================\n",
      "\n",
      "Notes:\n",
      "[1] Standard Errors assume that the covariance matrix of the errors is correctly specified.\n",
      "[2] The condition number is large, 1.8e+04. This might indicate that there are\n",
      "strong multicollinearity or other numerical problems.\n"
     ]
    }
   ],
   "source": [
    "# Create Model 1 - Simple linear regression without a threshold\n",
    "X_model1 = sm.add_constant(filtered_all_data['expected_recovery_amount'])\n",
    "y_model1 = filtered_all_data['actual_recovery_amount']\n",
    "model1 = sm.OLS(y_model1, X_model1).fit()\n",
    "\n",
    "# Print the model summary\n",
    "print(\"Model 1 (Without Threshold) - $900 to $1100\")\n",
    "print(model1.summary())"
   ]
  },
  {
   "cell_type": "markdown",
   "metadata": {},
   "source": [
    "# Regression modeling: adding true threshold"
   ]
  },
  {
   "cell_type": "code",
   "execution_count": 89,
   "metadata": {},
   "outputs": [
    {
     "name": "stdout",
     "output_type": "stream",
     "text": [
      "\n",
      "Model 2 (With Threshold) - $900 to $1100\n",
      "                              OLS Regression Results                              \n",
      "==================================================================================\n",
      "Dep. Variable:     actual_recovery_amount   R-squared:                       0.314\n",
      "Model:                                OLS   Adj. R-squared:                  0.307\n",
      "Method:                     Least Squares   F-statistic:                     41.22\n",
      "Date:                    Mon, 24 Jul 2023   Prob (F-statistic):           1.83e-15\n",
      "Time:                            02:42:49   Log-Likelihood:                -1272.0\n",
      "No. Observations:                     183   AIC:                             2550.\n",
      "Df Residuals:                         180   BIC:                             2560.\n",
      "Df Model:                               2                                         \n",
      "Covariance Type:                nonrobust                                         \n",
      "============================================================================================\n",
      "                               coef    std err          t      P>|t|      [0.025      0.975]\n",
      "--------------------------------------------------------------------------------------------\n",
      "const                        3.3440    626.274      0.005      0.996   -1232.440    1239.128\n",
      "expected_recovery_amount     0.6430      0.655      0.981      0.328      -0.650       1.936\n",
      "above_threshold            277.6344     74.043      3.750      0.000     131.530     423.739\n",
      "==============================================================================\n",
      "Omnibus:                       65.977   Durbin-Watson:                   1.906\n",
      "Prob(Omnibus):                  0.000   Jarque-Bera (JB):              186.537\n",
      "Skew:                           1.510   Prob(JB):                     3.12e-41\n",
      "Kurtosis:                       6.917   Cond. No.                     3.37e+04\n",
      "==============================================================================\n",
      "\n",
      "Notes:\n",
      "[1] Standard Errors assume that the covariance matrix of the errors is correctly specified.\n",
      "[2] The condition number is large, 3.37e+04. This might indicate that there are\n",
      "strong multicollinearity or other numerical problems.\n",
      "\n",
      "Estimated Impact of Higher Recovery Strategy: 277.63441877254655\n",
      "95% Confidence Interval for the Impact: [131.52972726647602, 423.7391102786171]\n"
     ]
    }
   ],
   "source": [
    "# Create Model 2 - Piecewise linear regression with a threshold at $1000\n",
    "# Create an indicator variable to represent whether the expected recovery amount is above the threshold\n",
    "X_model2 = sm.add_constant(filtered_all_data[['expected_recovery_amount', 'above_threshold']])\n",
    "y_model2 = filtered_all_data['actual_recovery_amount']\n",
    "model2 = sm.OLS(y_model2, X_model2).fit()\n",
    "\n",
    "# Print the model summaries for the $900 to $1100 window\n",
    "print(\"\\nModel 2 (With Threshold) - $900 to $1100\")\n",
    "print(model2.summary())\n",
    "\n",
    "impact_estimate = model2.params['above_threshold']\n",
    "confidence_interval_lower = model2.conf_int(alpha=0.05).loc['above_threshold', 0]\n",
    "confidence_interval_upper = model2.conf_int(alpha=0.05).loc['above_threshold', 1]\n",
    "\n",
    "print(\"\\nEstimated Impact of Higher Recovery Strategy:\", impact_estimate)\n",
    "print(\"95% Confidence Interval for the Impact: [{}, {}]\".format(confidence_interval_lower, confidence_interval_upper))"
   ]
  },
  {
   "cell_type": "markdown",
   "metadata": {},
   "source": [
    "# Regression modeling: adjusting the window"
   ]
  },
  {
   "cell_type": "code",
   "execution_count": 90,
   "metadata": {},
   "outputs": [
    {
     "name": "stdout",
     "output_type": "stream",
     "text": [
      "\n",
      "Model 1 (Without Threshold) - $950 to $1050\n",
      "                              OLS Regression Results                              \n",
      "==================================================================================\n",
      "Dep. Variable:     actual_recovery_amount   R-squared:                       0.234\n",
      "Model:                                OLS   Adj. R-squared:                  0.226\n",
      "Method:                     Least Squares   F-statistic:                     29.64\n",
      "Date:                    Mon, 24 Jul 2023   Prob (F-statistic):           3.92e-07\n",
      "Time:                            02:42:49   Log-Likelihood:                -696.22\n",
      "No. Observations:                      99   AIC:                             1396.\n",
      "Df Residuals:                          97   BIC:                             1402.\n",
      "Df Model:                               1                                         \n",
      "Covariance Type:                nonrobust                                         \n",
      "============================================================================================\n",
      "                               coef    std err          t      P>|t|      [0.025      0.975]\n",
      "--------------------------------------------------------------------------------------------\n",
      "const                    -4381.7808    946.452     -4.630      0.000   -6260.226   -2503.336\n",
      "expected_recovery_amount     5.1555      0.947      5.444      0.000       3.276       7.035\n",
      "==============================================================================\n",
      "Omnibus:                       44.345   Durbin-Watson:                   1.845\n",
      "Prob(Omnibus):                  0.000   Jarque-Bera (JB):              108.727\n",
      "Skew:                           1.681   Prob(JB):                     2.46e-24\n",
      "Kurtosis:                       6.879   Cond. No.                     3.40e+04\n",
      "==============================================================================\n",
      "\n",
      "Notes:\n",
      "[1] Standard Errors assume that the covariance matrix of the errors is correctly specified.\n",
      "[2] The condition number is large, 3.4e+04. This might indicate that there are\n",
      "strong multicollinearity or other numerical problems.\n",
      "\n",
      "Model 2 (With Threshold) - $950 to $1050\n",
      "                              OLS Regression Results                              \n",
      "==================================================================================\n",
      "Dep. Variable:     actual_recovery_amount   R-squared:                       0.283\n",
      "Model:                                OLS   Adj. R-squared:                  0.269\n",
      "Method:                     Least Squares   F-statistic:                     18.99\n",
      "Date:                    Mon, 24 Jul 2023   Prob (F-statistic):           1.12e-07\n",
      "Time:                            02:42:49   Log-Likelihood:                -692.92\n",
      "No. Observations:                      99   AIC:                             1392.\n",
      "Df Residuals:                          96   BIC:                             1400.\n",
      "Df Model:                               2                                         \n",
      "Covariance Type:                nonrobust                                         \n",
      "============================================================================================\n",
      "                               coef    std err          t      P>|t|      [0.025      0.975]\n",
      "--------------------------------------------------------------------------------------------\n",
      "const                     -279.5243   1840.707     -0.152      0.880   -3933.298    3374.250\n",
      "expected_recovery_amount     0.9189      1.886      0.487      0.627      -2.825       4.663\n",
      "above_threshold            286.5337    111.352      2.573      0.012      65.502     507.566\n",
      "==============================================================================\n",
      "Omnibus:                       39.302   Durbin-Watson:                   1.955\n",
      "Prob(Omnibus):                  0.000   Jarque-Bera (JB):               82.258\n",
      "Skew:                           1.564   Prob(JB):                     1.37e-18\n",
      "Kurtosis:                       6.186   Cond. No.                     6.81e+04\n",
      "==============================================================================\n",
      "\n",
      "Notes:\n",
      "[1] Standard Errors assume that the covariance matrix of the errors is correctly specified.\n",
      "[2] The condition number is large, 6.81e+04. This might indicate that there are\n",
      "strong multicollinearity or other numerical problems.\n"
     ]
    }
   ],
   "source": [
    "# Create Model 1 - Simple linear regression without a threshold for the $950 to $1050 window\n",
    "X_model1_narrow = sm.add_constant(filtered_all_data_narrow['expected_recovery_amount'])\n",
    "y_model1_narrow = filtered_all_data_narrow['actual_recovery_amount']\n",
    "model1_narrow = sm.OLS(y_model1_narrow, X_model1_narrow).fit()\n",
    "\n",
    "# Create Model 2 - Piecewise linear regression with a threshold at $1000 for the $950 to $1050 window\n",
    "# Create an indicator variable to represent whether the expected recovery amount is above the threshold\n",
    "X_model2_narrow = sm.add_constant(filtered_all_data_narrow[['expected_recovery_amount', 'above_threshold']])\n",
    "y_model2_narrow = filtered_all_data_narrow['actual_recovery_amount']\n",
    "model2_narrow = sm.OLS(y_model2_narrow, X_model2_narrow).fit()\n",
    "\n",
    "# Step 8: Print the model summaries for the $950 to $1050 window\n",
    "print(\"\\nModel 1 (Without Threshold) - $950 to $1050\")\n",
    "print(model1_narrow.summary())\n",
    "\n",
    "print(\"\\nModel 2 (With Threshold) - $950 to $1050\")\n",
    "print(model2_narrow.summary())\n"
   ]
  }
 ],
 "metadata": {
  "kernelspec": {
   "display_name": "Python 3",
   "language": "python",
   "name": "python3"
  },
  "language_info": {
   "codemirror_mode": {
    "name": "ipython",
    "version": 3
   },
   "file_extension": ".py",
   "mimetype": "text/x-python",
   "name": "python",
   "nbconvert_exporter": "python",
   "pygments_lexer": "ipython3",
   "version": "3.10.4"
  },
  "orig_nbformat": 4
 },
 "nbformat": 4,
 "nbformat_minor": 2
}
